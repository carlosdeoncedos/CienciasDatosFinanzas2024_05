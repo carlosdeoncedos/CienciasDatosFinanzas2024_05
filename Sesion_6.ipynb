{
 "cells": [
  {
   "cell_type": "markdown",
   "id": "94e60817-358b-4bcf-8dce-0029a823e3ef",
   "metadata": {
    "jp-MarkdownHeadingCollapsed": true
   },
   "source": [
    "# <font color='#2B17B0'>CIENCIA DE DATOS APLICADA A FINANZAS</font>\n",
    "Sesión 6, 2024-05-20<br>\n",
    "Carlos Crespo Elizondo<br>\n",
    "EGADE BUSINESS SCHOOL"
   ]
  },
  {
   "cell_type": "markdown",
   "id": "50928a3b-646f-4878-9656-a845015b3b00",
   "metadata": {},
   "source": [
    "# <font color='#2B17B0'>Librerías a importar</font>"
   ]
  },
  {
   "cell_type": "code",
   "execution_count": 2,
   "id": "9be0f972-2339-4307-a609-a125da69becb",
   "metadata": {},
   "outputs": [],
   "source": [
    "import matplotlib.pyplot as plt\n",
    "import numpy as np\n",
    "import pandas as pd\n",
    "import seaborn as sns\n",
    "\n",
    "sns.set_style('darkgrid')"
   ]
  },
  {
   "cell_type": "markdown",
   "id": "2606cb9e-2509-4314-a883-6b6004180a92",
   "metadata": {
    "tags": []
   },
   "source": [
    "# <font color='#2B17B0'>Indice de Precios y Cotizaciones - \"IPC\" S&P BMV -</font>\n"
   ]
  },
  {
   "cell_type": "markdown",
   "id": "16a6831b-c384-4f2a-b0aa-12a30562a39c",
   "metadata": {},
   "source": [
    "> _\"El S&P/BMV IPC busca medir el desempeño de las acciones de mayor tamaño y liquidez listadas en la BMV. Su objetivo es proporcionar un índice amplio, representativo, que abarque el mercado bursátil mexicano. Los componentes del índice son ponderados por capitalización de mercado modificada, sujetos a requisitos de diversificación.\"_<br><br>https://www.spglobal.com/spdji/es/indices/equity/sp-bmv-ipc/#overview\n"
   ]
  },
  {
   "cell_type": "markdown",
   "id": "ad62961c-6475-4298-a458-4355a373e05d",
   "metadata": {},
   "source": [
    "### Universo\n",
    "> \"_Los constituyentes deben de ser acciones listadas en la BMV, excluyendo los Fideicomisos de Inversión en Bienes Raíces (FIBRAS) y los Fideicomisos hipotecarios._\""
   ]
  },
  {
   "cell_type": "markdown",
   "id": "3bad322d-08fc-43a6-9c0a-91e03ce73080",
   "metadata": {},
   "source": [
    "### Historial de Operación\n",
    "> _\"Deben de cumplir con el siguiente criterio:\"_\n",
    "> * Las acciones deben de tener un historial de negociación por lo menos de tres meses\n",
    "> * Las acciones deberion de haber operado por lo menos en el 95% de los días de los últimos seis meses\n",
    "> * Si las acciones tienen menos de seis meses de historial, se aplica al 95% de los días operados"
   ]
  },
  {
   "attachments": {},
   "cell_type": "markdown",
   "id": "5d4d64f8-9bfe-4da5-8c56-d3cf537a3266",
   "metadata": {},
   "source": [
    "|Emisora|Ticker|Ticker Y!F|\n",
    "|:-|:-|:-|\n",
    "|\"Indice de Precios y Cotizaciones\"|IPC|^MXX|\n",
    "|Alfa A|ALFAA|ALFAA.MX|\n",
    "|Alsea A|ALSEA|ALSEA.MX|\n",
    "|America Movil  B|AMXB|AMXB.MX| \n",
    "|Arca Continental|AC|AC.MX| \n",
    "|Banco del Bajio|BBAJIOO|BBAJIOO.MX| \n",
    "|Becle |CUERVO|CUERVO.MX| \n",
    "|Bolsa Mexicana de Valores |BOLSAA|BOLSAA.MX| \n",
    "|Cemex CPO|CEMEXCPO|CEMEXCPO.MX| \n",
    "|Coca-Cola Femsa  UBL|KOFUBL|KOFUBL.MX| \n",
    "|Corporacion Inmobiliaria VestaB|VESTA|VESTA.MX| \n",
    "|El Puerto de Liverpool |LIVEPOLC-1|LIVEPOLC-1.MX| \n",
    "|Fomento Economico Mexicano |FEMSAUBD|FEMSAUBD.MX| \n",
    "|Genomma Lab Internacional |LABB|LABB.MX| \n",
    "|Gentera |GENTERA|GENTERA.MX| \n",
    "|Gruma SAB B|GRUMAB|GRUMAB.MX| \n",
    "|Grupo Aeroportuario del Centro NorteB. |OMAB|OMAB.MX| \n",
    "|Grupo Aeroportuario del PacificoB. |GAPB|GAPB.MX| \n",
    "|Grupo Aeroportuario del Sureste  B|ASURB|ASURB.MX| \n",
    "|Grupo Bimbo S.A.B.|BIMBOA|BIMBOA.MX| \n",
    "|Grupo Carso |GCARSOA1|GCARSOA1.MX| \n",
    "|Grupo Cementos de Chihuahua |GCC|GCC.MX| \n",
    "|Grupo Comercial Chedraui|CHDRAUIB|CHDRAUIB.MX|\n",
    "|Grupo Elektra |ELEKTRA|ELEKTRA.MX| \n",
    "|Grupo Financiero Banorte O|GFNORTEO|GFNORTEO.MX| \n",
    "|Grupo Financiero Inbursa O|GFINBURO|GFINBURO.MX| \n",
    "|Grupo Mexico  B|GMEXICOB|GMEXICOB.MX| \n",
    "|Grupo Televisa  CPO|TLEVISACPO|TLEVISACPO.MX| \n",
    "|Industrias Penoles|PE&OLES|PE&OLES.MX| \n",
    "|Kimberly Clark de Mexico  A|KIMBERA|KIMBERA.MX| \n",
    "|Megacable Holdings |MEGACPO|MEGACPO.MX| \n",
    "|ORBIA ADVANCE CORPORATION |ORBIA|ORBIA.MX| \n",
    "|Promotora y Operadora de Infraestructura |PINFRA|PINFRA.MX| \n",
    "|Qualitas Controladora|Q|Q.MX| \n",
    "|Regional |RA|RA.MX| \n",
    "|Walmart de Mexico |WALMEX|WALMEX.MX|"
   ]
  },
  {
   "cell_type": "markdown",
   "id": "bac3e763-061e-446a-abc2-01e693abd548",
   "metadata": {
    "tags": []
   },
   "source": [
    "# <font color='#2B17B0'>Precios Yahoo Finance</font>"
   ]
  },
  {
   "cell_type": "markdown",
   "id": "c036020a-5a3b-4464-82d6-9448e546706e",
   "metadata": {},
   "source": [
    "### Como obtener los precios de Y!Finance?"
   ]
  },
  {
   "cell_type": "code",
   "execution_count": null,
   "id": "5cd1950d-4ddb-41d5-9d06-52893805146e",
   "metadata": {},
   "outputs": [],
   "source": [
    "'https://query1.finance.yahoo.com/v7/finance/download/WALMEX.MX?period1=1684634015&period2=1716256415&interval=1d&events=history&includeAdjustedClose=true'\n",
    "'https://query1.finance.yahoo.com/v7/finance/download/WALMEX.MX?period1=1708480496&period2=1716256415&interval=1d&events=history&includeAdjustedClose=true'\n",
    "'https://query1.finance.yahoo.com/v7/finance/download/WALMEX.MX?period1=1700531755&period2=1716256415&interval=1d&events=history&includeAdjustedClose=true'\n"
   ]
  },
  {
   "cell_type": "code",
   "execution_count": null,
   "id": "9cc72426-89ae-486c-97c4-91931a3b0a31",
   "metadata": {},
   "outputs": [],
   "source": []
  },
  {
   "cell_type": "markdown",
   "id": "059ecef2-6dfa-4daa-86f5-1dc25ffa9299",
   "metadata": {
    "tags": []
   },
   "source": [
    "## <font color='#2B17B0'>UNIX Epoch Time</font>\n"
   ]
  },
  {
   "cell_type": "markdown",
   "id": "cf56712e-b27f-4a01-92de-4e59c3d9ae40",
   "metadata": {},
   "source": [
    "> _\"Son los segundos que han pasado a partir de las 0:00:00hrs del 1 de enero, 1970\"_"
   ]
  },
  {
   "cell_type": "markdown",
   "id": "b4d22a11-5cc7-45be-ab40-091ef8d5bbbc",
   "metadata": {},
   "source": [
    "### Importar librería datetime"
   ]
  },
  {
   "cell_type": "code",
   "execution_count": 3,
   "id": "b68f4b93-22be-4178-88db-d62a4356b278",
   "metadata": {},
   "outputs": [],
   "source": [
    "import datetime"
   ]
  },
  {
   "cell_type": "markdown",
   "id": "56b7f452-a4bd-4eb0-acd0-d3eef0a39b54",
   "metadata": {},
   "source": [
    "### Epoch 0"
   ]
  },
  {
   "cell_type": "code",
   "execution_count": 4,
   "id": "29de0c3f-2f38-4915-bcba-8268ef1febe1",
   "metadata": {},
   "outputs": [
    {
     "data": {
      "text/plain": [
       "datetime.datetime(1970, 1, 1, 0, 0)"
      ]
     },
     "execution_count": 4,
     "metadata": {},
     "output_type": "execute_result"
    }
   ],
   "source": [
    "datetime.datetime(1970, 1, 1, 0, 0)"
   ]
  },
  {
   "cell_type": "code",
   "execution_count": 7,
   "id": "061615b3-8a1a-498b-aade-8b44e42da94a",
   "metadata": {},
   "outputs": [
    {
     "name": "stderr",
     "output_type": "stream",
     "text": [
      "/var/folders/x8/47t58hl55rxgxz3t1skqjg440000gn/T/ipykernel_4496/2936717734.py:1: DeprecationWarning: datetime.datetime.utcfromtimestamp() is deprecated and scheduled for removal in a future version. Use timezone-aware objects to represent datetimes in UTC: datetime.datetime.fromtimestamp(timestamp, datetime.UTC).\n",
      "  datetime.datetime.utcfromtimestamp(0)\n"
     ]
    },
    {
     "data": {
      "text/plain": [
       "datetime.datetime(1970, 1, 1, 0, 0)"
      ]
     },
     "execution_count": 7,
     "metadata": {},
     "output_type": "execute_result"
    }
   ],
   "source": [
    "datetime.datetime.utcfromtimestamp(0)"
   ]
  },
  {
   "cell_type": "code",
   "execution_count": 8,
   "id": "d83670a7-582d-42fa-852a-fae5f57ce082",
   "metadata": {},
   "outputs": [
    {
     "data": {
      "text/plain": [
       "datetime.datetime(2023, 5, 20, 19, 53, 35)"
      ]
     },
     "execution_count": 8,
     "metadata": {},
     "output_type": "execute_result"
    }
   ],
   "source": [
    "datetime.datetime.fromtimestamp(1684634015)"
   ]
  },
  {
   "cell_type": "code",
   "execution_count": 9,
   "id": "7f25ff6c-d8f5-41a4-b308-8eecb484f894",
   "metadata": {},
   "outputs": [
    {
     "data": {
      "text/plain": [
       "datetime.datetime(2024, 5, 20, 19, 53, 35)"
      ]
     },
     "execution_count": 9,
     "metadata": {},
     "output_type": "execute_result"
    }
   ],
   "source": [
    "datetime.datetime.fromtimestamp(1716256415)"
   ]
  },
  {
   "cell_type": "markdown",
   "id": "3f69ff8d-258b-4de2-b726-982533dbf861",
   "metadata": {},
   "source": [
    "### Comparar los timestamps de los links"
   ]
  },
  {
   "cell_type": "code",
   "execution_count": null,
   "id": "8739dd06-9f5f-4533-bdad-1ac1baf16bff",
   "metadata": {},
   "outputs": [],
   "source": []
  },
  {
   "cell_type": "markdown",
   "id": "3b68bf20-3fba-46ef-9db9-8c5d44447ad3",
   "metadata": {},
   "source": [
    "### Tiempo Universal Coordinado / Coordinated Universal Time (UTC): Stándard de tiempo en el mundo\n"
   ]
  },
  {
   "cell_type": "markdown",
   "id": "c797e1f1-9506-452e-b5ce-105945c66a37",
   "metadata": {},
   "source": [
    "UTC es un estándar de tiempo utilizado para sincronizar/coordinar los centros de tiempo alrededor del mundo.  Se utiliza el promedio de dos componentes:\n",
    "1. Hora Atómica Internacional (**TAI**):  Es una escala de tiempo que combina los resultados de 400 relojes atómicos de gran precisión alrededor del mundo\n",
    "1. Hora Universal (**UT1**):  También conocido como tiempo astronómico o solar referente a la rotación de la tierra.  Compara el paso marcado por **TAI** y la duración actual de un día en la tierra."
   ]
  },
  {
   "cell_type": "markdown",
   "id": "8097eb43-adf8-4656-a352-2e92add2c665",
   "metadata": {},
   "source": [
    "### UTC es un estándard no una zona horaria\n",
    "GMT es la Zona Horaria de Greenwich.  "
   ]
  },
  {
   "cell_type": "markdown",
   "id": "58f7e7e8-27e5-4f86-ac38-dd30e126fd41",
   "metadata": {},
   "source": [
    "## <font color='#2B17B0'>Crear función para obtener precios de acciones</font>\n"
   ]
  },
  {
   "cell_type": "code",
   "execution_count": 10,
   "id": "973515e8-8d2e-461a-9e38-2cb34ecf4223",
   "metadata": {},
   "outputs": [
    {
     "data": {
      "text/html": [
       "<div>\n",
       "<style scoped>\n",
       "    .dataframe tbody tr th:only-of-type {\n",
       "        vertical-align: middle;\n",
       "    }\n",
       "\n",
       "    .dataframe tbody tr th {\n",
       "        vertical-align: top;\n",
       "    }\n",
       "\n",
       "    .dataframe thead th {\n",
       "        text-align: right;\n",
       "    }\n",
       "</style>\n",
       "<table border=\"1\" class=\"dataframe\">\n",
       "  <thead>\n",
       "    <tr style=\"text-align: right;\">\n",
       "      <th></th>\n",
       "      <th>Date</th>\n",
       "      <th>Open</th>\n",
       "      <th>High</th>\n",
       "      <th>Low</th>\n",
       "      <th>Close</th>\n",
       "      <th>Adj Close</th>\n",
       "      <th>Volume</th>\n",
       "    </tr>\n",
       "  </thead>\n",
       "  <tbody>\n",
       "    <tr>\n",
       "      <th>0</th>\n",
       "      <td>2023-05-22</td>\n",
       "      <td>72.000000</td>\n",
       "      <td>72.599998</td>\n",
       "      <td>70.419998</td>\n",
       "      <td>70.419998</td>\n",
       "      <td>70.419998</td>\n",
       "      <td>15184624</td>\n",
       "    </tr>\n",
       "    <tr>\n",
       "      <th>1</th>\n",
       "      <td>2023-05-23</td>\n",
       "      <td>70.889999</td>\n",
       "      <td>71.629997</td>\n",
       "      <td>70.129997</td>\n",
       "      <td>71.290001</td>\n",
       "      <td>71.290001</td>\n",
       "      <td>12489008</td>\n",
       "    </tr>\n",
       "    <tr>\n",
       "      <th>2</th>\n",
       "      <td>2023-05-24</td>\n",
       "      <td>72.000000</td>\n",
       "      <td>72.000000</td>\n",
       "      <td>70.209999</td>\n",
       "      <td>70.510002</td>\n",
       "      <td>70.510002</td>\n",
       "      <td>16598087</td>\n",
       "    </tr>\n",
       "    <tr>\n",
       "      <th>3</th>\n",
       "      <td>2023-05-25</td>\n",
       "      <td>70.500000</td>\n",
       "      <td>70.739998</td>\n",
       "      <td>69.849998</td>\n",
       "      <td>70.000000</td>\n",
       "      <td>70.000000</td>\n",
       "      <td>20357863</td>\n",
       "    </tr>\n",
       "    <tr>\n",
       "      <th>4</th>\n",
       "      <td>2023-05-26</td>\n",
       "      <td>70.150002</td>\n",
       "      <td>70.300003</td>\n",
       "      <td>68.230003</td>\n",
       "      <td>68.690002</td>\n",
       "      <td>68.690002</td>\n",
       "      <td>21566575</td>\n",
       "    </tr>\n",
       "    <tr>\n",
       "      <th>...</th>\n",
       "      <td>...</td>\n",
       "      <td>...</td>\n",
       "      <td>...</td>\n",
       "      <td>...</td>\n",
       "      <td>...</td>\n",
       "      <td>...</td>\n",
       "      <td>...</td>\n",
       "    </tr>\n",
       "    <tr>\n",
       "      <th>246</th>\n",
       "      <td>2024-05-14</td>\n",
       "      <td>68.739998</td>\n",
       "      <td>68.739998</td>\n",
       "      <td>66.589996</td>\n",
       "      <td>67.129997</td>\n",
       "      <td>67.129997</td>\n",
       "      <td>14760832</td>\n",
       "    </tr>\n",
       "    <tr>\n",
       "      <th>247</th>\n",
       "      <td>2024-05-15</td>\n",
       "      <td>67.050003</td>\n",
       "      <td>68.940002</td>\n",
       "      <td>66.809998</td>\n",
       "      <td>67.930000</td>\n",
       "      <td>67.930000</td>\n",
       "      <td>11500471</td>\n",
       "    </tr>\n",
       "    <tr>\n",
       "      <th>248</th>\n",
       "      <td>2024-05-16</td>\n",
       "      <td>67.610001</td>\n",
       "      <td>68.800003</td>\n",
       "      <td>67.309998</td>\n",
       "      <td>68.300003</td>\n",
       "      <td>68.300003</td>\n",
       "      <td>14951215</td>\n",
       "    </tr>\n",
       "    <tr>\n",
       "      <th>249</th>\n",
       "      <td>2024-05-17</td>\n",
       "      <td>67.820000</td>\n",
       "      <td>68.040001</td>\n",
       "      <td>67.120003</td>\n",
       "      <td>67.989998</td>\n",
       "      <td>67.989998</td>\n",
       "      <td>6770407</td>\n",
       "    </tr>\n",
       "    <tr>\n",
       "      <th>250</th>\n",
       "      <td>2024-05-20</td>\n",
       "      <td>68.000000</td>\n",
       "      <td>68.279999</td>\n",
       "      <td>67.519997</td>\n",
       "      <td>67.970001</td>\n",
       "      <td>67.970001</td>\n",
       "      <td>17692073</td>\n",
       "    </tr>\n",
       "  </tbody>\n",
       "</table>\n",
       "<p>251 rows × 7 columns</p>\n",
       "</div>"
      ],
      "text/plain": [
       "           Date       Open       High        Low      Close  Adj Close  \\\n",
       "0    2023-05-22  72.000000  72.599998  70.419998  70.419998  70.419998   \n",
       "1    2023-05-23  70.889999  71.629997  70.129997  71.290001  71.290001   \n",
       "2    2023-05-24  72.000000  72.000000  70.209999  70.510002  70.510002   \n",
       "3    2023-05-25  70.500000  70.739998  69.849998  70.000000  70.000000   \n",
       "4    2023-05-26  70.150002  70.300003  68.230003  68.690002  68.690002   \n",
       "..          ...        ...        ...        ...        ...        ...   \n",
       "246  2024-05-14  68.739998  68.739998  66.589996  67.129997  67.129997   \n",
       "247  2024-05-15  67.050003  68.940002  66.809998  67.930000  67.930000   \n",
       "248  2024-05-16  67.610001  68.800003  67.309998  68.300003  68.300003   \n",
       "249  2024-05-17  67.820000  68.040001  67.120003  67.989998  67.989998   \n",
       "250  2024-05-20  68.000000  68.279999  67.519997  67.970001  67.970001   \n",
       "\n",
       "       Volume  \n",
       "0    15184624  \n",
       "1    12489008  \n",
       "2    16598087  \n",
       "3    20357863  \n",
       "4    21566575  \n",
       "..        ...  \n",
       "246  14760832  \n",
       "247  11500471  \n",
       "248  14951215  \n",
       "249   6770407  \n",
       "250  17692073  \n",
       "\n",
       "[251 rows x 7 columns]"
      ]
     },
     "execution_count": 10,
     "metadata": {},
     "output_type": "execute_result"
    }
   ],
   "source": [
    "url = 'https://query1.finance.yahoo.com/v7/finance/download/WALMEX.MX?period1=1684634015&period2=1716256415&interval=1d&events=history&includeAdjustedClose=true'\n",
    "pd.read_csv(url)"
   ]
  },
  {
   "cell_type": "markdown",
   "id": "194a2d43-9c02-4e87-8c82-88c8e16f8e87",
   "metadata": {},
   "source": [
    "## Utilizar f String"
   ]
  },
  {
   "cell_type": "markdown",
   "id": "94e5242b-84fd-41b6-903f-4c8d33e985d0",
   "metadata": {},
   "source": [
    "### Fechas a Epoch Timestamp"
   ]
  },
  {
   "cell_type": "code",
   "execution_count": 11,
   "id": "fac1e799-4a82-4625-ab59-1b51f5871257",
   "metadata": {},
   "outputs": [],
   "source": [
    "fecha1 = '2024-02-21'\n",
    "fecha2 = '2024-05-20'"
   ]
  },
  {
   "cell_type": "code",
   "execution_count": 12,
   "id": "54a44e15-ad7b-435e-9697-b0186fb6c2ac",
   "metadata": {},
   "outputs": [],
   "source": [
    "fecha1 = datetime.datetime.strptime(fecha1, \"%Y-%m-%d\").strftime('%s')\n",
    "fecha2 = datetime.datetime.strptime(fecha2, \"%Y-%m-%d\").strftime('%s')"
   ]
  },
  {
   "cell_type": "code",
   "execution_count": 13,
   "id": "0a3e1ac4-3b6c-4185-a4e4-dddd0d240b88",
   "metadata": {},
   "outputs": [
    {
     "data": {
      "text/plain": [
       "'1708495200'"
      ]
     },
     "execution_count": 13,
     "metadata": {},
     "output_type": "execute_result"
    }
   ],
   "source": [
    "fecha1"
   ]
  },
  {
   "cell_type": "code",
   "execution_count": 14,
   "id": "4cf48223-5e3f-45ad-a3f2-c9b5e81208c3",
   "metadata": {},
   "outputs": [
    {
     "data": {
      "text/plain": [
       "'1716184800'"
      ]
     },
     "execution_count": 14,
     "metadata": {},
     "output_type": "execute_result"
    }
   ],
   "source": [
    "fecha2"
   ]
  },
  {
   "cell_type": "markdown",
   "id": "4b421c92-5536-469a-95b4-a3704c8a1a8a",
   "metadata": {},
   "source": [
    "### Definir variable `accion`"
   ]
  },
  {
   "cell_type": "code",
   "execution_count": 29,
   "id": "58e609e4-7c4e-4ca6-ae41-b6b06fa88ca2",
   "metadata": {},
   "outputs": [],
   "source": [
    "accion = 'walmex.mx'"
   ]
  },
  {
   "cell_type": "code",
   "execution_count": 19,
   "id": "ce760cbc-d932-461e-b9b8-5398eff0051f",
   "metadata": {},
   "outputs": [],
   "source": [
    "a = 8\n",
    "b = 10\n",
    "c = a + b"
   ]
  },
  {
   "cell_type": "code",
   "execution_count": 20,
   "id": "262a2926-0bb8-4e6f-b9af-7f6234a96029",
   "metadata": {},
   "outputs": [
    {
     "name": "stdout",
     "output_type": "stream",
     "text": [
      "La suma de 8 mas 10 es igual 18\n"
     ]
    }
   ],
   "source": [
    "suma = f'La suma de {a} mas {b} es igual {c}'\n",
    "print(suma)"
   ]
  },
  {
   "cell_type": "code",
   "execution_count": 30,
   "id": "1c8f5f61-05fd-4269-95b6-6de4f2cdf754",
   "metadata": {},
   "outputs": [],
   "source": [
    "url = f'https://query1.finance.yahoo.com/v7/finance/download/{accion}?period1={fecha1}&period2={fecha2}&interval=1d&events=history&includeAdjustedClose=true'\n"
   ]
  },
  {
   "cell_type": "code",
   "execution_count": 31,
   "id": "4912c528-7349-418a-94c5-4d30b16080aa",
   "metadata": {},
   "outputs": [
    {
     "data": {
      "text/plain": [
       "'https://query1.finance.yahoo.com/v7/finance/download/walmex.mx?period1=1708495200&period2=1716184800&interval=1d&events=history&includeAdjustedClose=true'"
      ]
     },
     "execution_count": 31,
     "metadata": {},
     "output_type": "execute_result"
    }
   ],
   "source": [
    "url"
   ]
  },
  {
   "cell_type": "code",
   "execution_count": 40,
   "id": "fabea363-519b-4b22-b897-f7fb13c40f25",
   "metadata": {},
   "outputs": [],
   "source": [
    "df = pd.read_csv(url)"
   ]
  },
  {
   "cell_type": "code",
   "execution_count": 34,
   "id": "5d4799c0-8810-4681-8546-2e3c8721386c",
   "metadata": {},
   "outputs": [
    {
     "data": {
      "text/html": [
       "<div>\n",
       "<style scoped>\n",
       "    .dataframe tbody tr th:only-of-type {\n",
       "        vertical-align: middle;\n",
       "    }\n",
       "\n",
       "    .dataframe tbody tr th {\n",
       "        vertical-align: top;\n",
       "    }\n",
       "\n",
       "    .dataframe thead th {\n",
       "        text-align: right;\n",
       "    }\n",
       "</style>\n",
       "<table border=\"1\" class=\"dataframe\">\n",
       "  <thead>\n",
       "    <tr style=\"text-align: right;\">\n",
       "      <th></th>\n",
       "      <th>Date</th>\n",
       "      <th>Open</th>\n",
       "      <th>High</th>\n",
       "      <th>Low</th>\n",
       "      <th>Close</th>\n",
       "      <th>Adj Close</th>\n",
       "      <th>Volume</th>\n",
       "    </tr>\n",
       "  </thead>\n",
       "  <tbody>\n",
       "    <tr>\n",
       "      <th>54</th>\n",
       "      <td>2024-05-13</td>\n",
       "      <td>69.139999</td>\n",
       "      <td>69.449997</td>\n",
       "      <td>68.089996</td>\n",
       "      <td>68.389999</td>\n",
       "      <td>68.389999</td>\n",
       "      <td>14583702</td>\n",
       "    </tr>\n",
       "    <tr>\n",
       "      <th>55</th>\n",
       "      <td>2024-05-14</td>\n",
       "      <td>68.739998</td>\n",
       "      <td>68.739998</td>\n",
       "      <td>66.589996</td>\n",
       "      <td>67.129997</td>\n",
       "      <td>67.129997</td>\n",
       "      <td>14760832</td>\n",
       "    </tr>\n",
       "    <tr>\n",
       "      <th>56</th>\n",
       "      <td>2024-05-15</td>\n",
       "      <td>67.050003</td>\n",
       "      <td>68.940002</td>\n",
       "      <td>66.809998</td>\n",
       "      <td>67.930000</td>\n",
       "      <td>67.930000</td>\n",
       "      <td>11500471</td>\n",
       "    </tr>\n",
       "    <tr>\n",
       "      <th>57</th>\n",
       "      <td>2024-05-16</td>\n",
       "      <td>67.610001</td>\n",
       "      <td>68.800003</td>\n",
       "      <td>67.309998</td>\n",
       "      <td>68.300003</td>\n",
       "      <td>68.300003</td>\n",
       "      <td>14951215</td>\n",
       "    </tr>\n",
       "    <tr>\n",
       "      <th>58</th>\n",
       "      <td>2024-05-17</td>\n",
       "      <td>67.820000</td>\n",
       "      <td>68.040001</td>\n",
       "      <td>67.120003</td>\n",
       "      <td>67.989998</td>\n",
       "      <td>67.989998</td>\n",
       "      <td>6770407</td>\n",
       "    </tr>\n",
       "  </tbody>\n",
       "</table>\n",
       "</div>"
      ],
      "text/plain": [
       "          Date       Open       High        Low      Close  Adj Close  \\\n",
       "54  2024-05-13  69.139999  69.449997  68.089996  68.389999  68.389999   \n",
       "55  2024-05-14  68.739998  68.739998  66.589996  67.129997  67.129997   \n",
       "56  2024-05-15  67.050003  68.940002  66.809998  67.930000  67.930000   \n",
       "57  2024-05-16  67.610001  68.800003  67.309998  68.300003  68.300003   \n",
       "58  2024-05-17  67.820000  68.040001  67.120003  67.989998  67.989998   \n",
       "\n",
       "      Volume  \n",
       "54  14583702  \n",
       "55  14760832  \n",
       "56  11500471  \n",
       "57  14951215  \n",
       "58   6770407  "
      ]
     },
     "execution_count": 34,
     "metadata": {},
     "output_type": "execute_result"
    }
   ],
   "source": [
    "df.tail()"
   ]
  },
  {
   "cell_type": "code",
   "execution_count": 35,
   "id": "732024d4-1abd-44d8-8618-9ed6d1154dfb",
   "metadata": {},
   "outputs": [
    {
     "name": "stdout",
     "output_type": "stream",
     "text": [
      "<class 'pandas.core.frame.DataFrame'>\n",
      "RangeIndex: 59 entries, 0 to 58\n",
      "Data columns (total 7 columns):\n",
      " #   Column     Non-Null Count  Dtype  \n",
      "---  ------     --------------  -----  \n",
      " 0   Date       59 non-null     object \n",
      " 1   Open       59 non-null     float64\n",
      " 2   High       59 non-null     float64\n",
      " 3   Low        59 non-null     float64\n",
      " 4   Close      59 non-null     float64\n",
      " 5   Adj Close  59 non-null     float64\n",
      " 6   Volume     59 non-null     int64  \n",
      "dtypes: float64(5), int64(1), object(1)\n",
      "memory usage: 3.4+ KB\n"
     ]
    }
   ],
   "source": [
    "df.info()"
   ]
  },
  {
   "cell_type": "markdown",
   "id": "df8e4483-3acc-4726-be20-df53eaee4f47",
   "metadata": {},
   "source": [
    "### Indexar columna `Date`"
   ]
  },
  {
   "cell_type": "code",
   "execution_count": 47,
   "id": "13adc8e7-9849-4404-8822-8ec836d48ea4",
   "metadata": {},
   "outputs": [],
   "source": [
    "df['Date'] = pd.to_datetime(df['Date'])\n",
    "df.set_index('Date', inplace=True)"
   ]
  },
  {
   "cell_type": "code",
   "execution_count": 48,
   "id": "cd7d6ee7-61e3-4b60-8b14-c6c59de44174",
   "metadata": {},
   "outputs": [
    {
     "data": {
      "text/html": [
       "<div>\n",
       "<style scoped>\n",
       "    .dataframe tbody tr th:only-of-type {\n",
       "        vertical-align: middle;\n",
       "    }\n",
       "\n",
       "    .dataframe tbody tr th {\n",
       "        vertical-align: top;\n",
       "    }\n",
       "\n",
       "    .dataframe thead th {\n",
       "        text-align: right;\n",
       "    }\n",
       "</style>\n",
       "<table border=\"1\" class=\"dataframe\">\n",
       "  <thead>\n",
       "    <tr style=\"text-align: right;\">\n",
       "      <th></th>\n",
       "      <th>Open</th>\n",
       "      <th>High</th>\n",
       "      <th>Low</th>\n",
       "      <th>Close</th>\n",
       "      <th>Adj Close</th>\n",
       "      <th>Volume</th>\n",
       "    </tr>\n",
       "    <tr>\n",
       "      <th>Date</th>\n",
       "      <th></th>\n",
       "      <th></th>\n",
       "      <th></th>\n",
       "      <th></th>\n",
       "      <th></th>\n",
       "      <th></th>\n",
       "    </tr>\n",
       "  </thead>\n",
       "  <tbody>\n",
       "    <tr>\n",
       "      <th>2024-02-21</th>\n",
       "      <td>69.000000</td>\n",
       "      <td>69.239998</td>\n",
       "      <td>68.519997</td>\n",
       "      <td>68.790001</td>\n",
       "      <td>68.790001</td>\n",
       "      <td>17165443</td>\n",
       "    </tr>\n",
       "    <tr>\n",
       "      <th>2024-02-22</th>\n",
       "      <td>68.610001</td>\n",
       "      <td>69.239998</td>\n",
       "      <td>68.110001</td>\n",
       "      <td>68.730003</td>\n",
       "      <td>68.730003</td>\n",
       "      <td>17451233</td>\n",
       "    </tr>\n",
       "    <tr>\n",
       "      <th>2024-02-23</th>\n",
       "      <td>69.059998</td>\n",
       "      <td>69.769997</td>\n",
       "      <td>68.639999</td>\n",
       "      <td>69.500000</td>\n",
       "      <td>69.500000</td>\n",
       "      <td>11254820</td>\n",
       "    </tr>\n",
       "    <tr>\n",
       "      <th>2024-02-26</th>\n",
       "      <td>69.599998</td>\n",
       "      <td>69.599998</td>\n",
       "      <td>68.510002</td>\n",
       "      <td>69.040001</td>\n",
       "      <td>69.040001</td>\n",
       "      <td>16097519</td>\n",
       "    </tr>\n",
       "    <tr>\n",
       "      <th>2024-02-27</th>\n",
       "      <td>69.089996</td>\n",
       "      <td>69.089996</td>\n",
       "      <td>67.779999</td>\n",
       "      <td>67.820000</td>\n",
       "      <td>67.820000</td>\n",
       "      <td>32116685</td>\n",
       "    </tr>\n",
       "  </tbody>\n",
       "</table>\n",
       "</div>"
      ],
      "text/plain": [
       "                 Open       High        Low      Close  Adj Close    Volume\n",
       "Date                                                                       \n",
       "2024-02-21  69.000000  69.239998  68.519997  68.790001  68.790001  17165443\n",
       "2024-02-22  68.610001  69.239998  68.110001  68.730003  68.730003  17451233\n",
       "2024-02-23  69.059998  69.769997  68.639999  69.500000  69.500000  11254820\n",
       "2024-02-26  69.599998  69.599998  68.510002  69.040001  69.040001  16097519\n",
       "2024-02-27  69.089996  69.089996  67.779999  67.820000  67.820000  32116685"
      ]
     },
     "execution_count": 48,
     "metadata": {},
     "output_type": "execute_result"
    }
   ],
   "source": [
    "df.head()"
   ]
  },
  {
   "cell_type": "code",
   "execution_count": 39,
   "id": "7af8a654-a96d-43bb-810a-23504e583076",
   "metadata": {},
   "outputs": [
    {
     "data": {
      "text/html": [
       "<div>\n",
       "<style scoped>\n",
       "    .dataframe tbody tr th:only-of-type {\n",
       "        vertical-align: middle;\n",
       "    }\n",
       "\n",
       "    .dataframe tbody tr th {\n",
       "        vertical-align: top;\n",
       "    }\n",
       "\n",
       "    .dataframe thead th {\n",
       "        text-align: right;\n",
       "    }\n",
       "</style>\n",
       "<table border=\"1\" class=\"dataframe\">\n",
       "  <thead>\n",
       "    <tr style=\"text-align: right;\">\n",
       "      <th></th>\n",
       "      <th>Date</th>\n",
       "      <th>Open</th>\n",
       "      <th>High</th>\n",
       "      <th>Low</th>\n",
       "      <th>Close</th>\n",
       "      <th>Adj Close</th>\n",
       "      <th>Volume</th>\n",
       "    </tr>\n",
       "    <tr>\n",
       "      <th>Date</th>\n",
       "      <th></th>\n",
       "      <th></th>\n",
       "      <th></th>\n",
       "      <th></th>\n",
       "      <th></th>\n",
       "      <th></th>\n",
       "      <th></th>\n",
       "    </tr>\n",
       "  </thead>\n",
       "  <tbody>\n",
       "    <tr>\n",
       "      <th>2024-02-21</th>\n",
       "      <td>2024-02-21</td>\n",
       "      <td>69.000000</td>\n",
       "      <td>69.239998</td>\n",
       "      <td>68.519997</td>\n",
       "      <td>68.790001</td>\n",
       "      <td>68.790001</td>\n",
       "      <td>17165443</td>\n",
       "    </tr>\n",
       "    <tr>\n",
       "      <th>2024-02-22</th>\n",
       "      <td>2024-02-22</td>\n",
       "      <td>68.610001</td>\n",
       "      <td>69.239998</td>\n",
       "      <td>68.110001</td>\n",
       "      <td>68.730003</td>\n",
       "      <td>68.730003</td>\n",
       "      <td>17451233</td>\n",
       "    </tr>\n",
       "    <tr>\n",
       "      <th>2024-02-23</th>\n",
       "      <td>2024-02-23</td>\n",
       "      <td>69.059998</td>\n",
       "      <td>69.769997</td>\n",
       "      <td>68.639999</td>\n",
       "      <td>69.500000</td>\n",
       "      <td>69.500000</td>\n",
       "      <td>11254820</td>\n",
       "    </tr>\n",
       "    <tr>\n",
       "      <th>2024-02-26</th>\n",
       "      <td>2024-02-26</td>\n",
       "      <td>69.599998</td>\n",
       "      <td>69.599998</td>\n",
       "      <td>68.510002</td>\n",
       "      <td>69.040001</td>\n",
       "      <td>69.040001</td>\n",
       "      <td>16097519</td>\n",
       "    </tr>\n",
       "    <tr>\n",
       "      <th>2024-02-27</th>\n",
       "      <td>2024-02-27</td>\n",
       "      <td>69.089996</td>\n",
       "      <td>69.089996</td>\n",
       "      <td>67.779999</td>\n",
       "      <td>67.820000</td>\n",
       "      <td>67.820000</td>\n",
       "      <td>32116685</td>\n",
       "    </tr>\n",
       "  </tbody>\n",
       "</table>\n",
       "</div>"
      ],
      "text/plain": [
       "                 Date       Open       High        Low      Close  Adj Close  \\\n",
       "Date                                                                           \n",
       "2024-02-21 2024-02-21  69.000000  69.239998  68.519997  68.790001  68.790001   \n",
       "2024-02-22 2024-02-22  68.610001  69.239998  68.110001  68.730003  68.730003   \n",
       "2024-02-23 2024-02-23  69.059998  69.769997  68.639999  69.500000  69.500000   \n",
       "2024-02-26 2024-02-26  69.599998  69.599998  68.510002  69.040001  69.040001   \n",
       "2024-02-27 2024-02-27  69.089996  69.089996  67.779999  67.820000  67.820000   \n",
       "\n",
       "              Volume  \n",
       "Date                  \n",
       "2024-02-21  17165443  \n",
       "2024-02-22  17451233  \n",
       "2024-02-23  11254820  \n",
       "2024-02-26  16097519  \n",
       "2024-02-27  32116685  "
      ]
     },
     "execution_count": 39,
     "metadata": {},
     "output_type": "execute_result"
    }
   ],
   "source": [
    "df.head()"
   ]
  },
  {
   "cell_type": "markdown",
   "id": "3cc425de-1bb9-4bf1-9e42-2e88fd80e564",
   "metadata": {},
   "source": [
    "## Función `precios`"
   ]
  },
  {
   "cell_type": "code",
   "execution_count": 66,
   "id": "9b63046b-136e-4b2b-8bd4-cb90c3caae0e",
   "metadata": {},
   "outputs": [],
   "source": [
    "def precios(accion='^MXX', fecha1=datetime.datetime.today().replace(month=1, day=1), \n",
    "            fecha2=datetime.datetime.today()):\n",
    "    '''\n",
    "    DOC STRING\n",
    "    '''\n",
    "    # print(fecha1.strftime('%s'))\n",
    "    # print(fecha2.strftime('%s'))\n",
    "\n",
    "    if type(fecha1) != datetime.datetime:\n",
    "        fecha1 = datetime.datetime.strptime(fecha1, \"%Y-%m-%d\")\n",
    "    fecha1 = fecha1.strftime('%s')\n",
    "\n",
    "    if type(fecha2) != datetime.datetime:\n",
    "        fecha2 = datetime.datetime.strptime(fecha2, \"%Y-%m-%d\")\n",
    "    fecha2 = fecha2.strftime('%s')\n",
    "    # fecha2 = datetime.datetime.strptime(fecha2, \"%Y-%m-%d\").strftime('%s')\n",
    "                                        \n",
    "                                        \n",
    "    url = f'https://query1.finance.yahoo.com/v7/finance/download/{accion}?period1={fecha1}&period2={fecha2}&interval=1d&events=history&includeAdjustedClose=true'\n",
    "    df = pd.read_csv(url)\n",
    "    df['Date'] = pd.to_datetime(df['Date'])\n",
    "    df.set_index('Date', inplace=True)\n",
    "    df.sort_index(inplace=True)\n",
    "\n",
    "    return df"
   ]
  },
  {
   "cell_type": "code",
   "execution_count": 69,
   "id": "dbba7830-b502-4f3c-b6c5-a0c5ff3dd973",
   "metadata": {},
   "outputs": [
    {
     "data": {
      "text/html": [
       "<div>\n",
       "<style scoped>\n",
       "    .dataframe tbody tr th:only-of-type {\n",
       "        vertical-align: middle;\n",
       "    }\n",
       "\n",
       "    .dataframe tbody tr th {\n",
       "        vertical-align: top;\n",
       "    }\n",
       "\n",
       "    .dataframe thead th {\n",
       "        text-align: right;\n",
       "    }\n",
       "</style>\n",
       "<table border=\"1\" class=\"dataframe\">\n",
       "  <thead>\n",
       "    <tr style=\"text-align: right;\">\n",
       "      <th></th>\n",
       "      <th>Open</th>\n",
       "      <th>High</th>\n",
       "      <th>Low</th>\n",
       "      <th>Close</th>\n",
       "      <th>Adj Close</th>\n",
       "      <th>Volume</th>\n",
       "    </tr>\n",
       "    <tr>\n",
       "      <th>Date</th>\n",
       "      <th></th>\n",
       "      <th></th>\n",
       "      <th></th>\n",
       "      <th></th>\n",
       "      <th></th>\n",
       "      <th></th>\n",
       "    </tr>\n",
       "  </thead>\n",
       "  <tbody>\n",
       "    <tr>\n",
       "      <th>2023-01-02</th>\n",
       "      <td>68.589996</td>\n",
       "      <td>69.879997</td>\n",
       "      <td>68.410004</td>\n",
       "      <td>69.150002</td>\n",
       "      <td>68.425362</td>\n",
       "      <td>1134933</td>\n",
       "    </tr>\n",
       "    <tr>\n",
       "      <th>2023-01-03</th>\n",
       "      <td>69.010002</td>\n",
       "      <td>70.029999</td>\n",
       "      <td>68.809998</td>\n",
       "      <td>69.250000</td>\n",
       "      <td>68.524307</td>\n",
       "      <td>4738324</td>\n",
       "    </tr>\n",
       "    <tr>\n",
       "      <th>2023-01-04</th>\n",
       "      <td>69.150002</td>\n",
       "      <td>70.889999</td>\n",
       "      <td>68.730003</td>\n",
       "      <td>70.489998</td>\n",
       "      <td>69.751312</td>\n",
       "      <td>8848076</td>\n",
       "    </tr>\n",
       "    <tr>\n",
       "      <th>2023-01-05</th>\n",
       "      <td>70.550003</td>\n",
       "      <td>71.089996</td>\n",
       "      <td>69.940002</td>\n",
       "      <td>70.410004</td>\n",
       "      <td>69.672157</td>\n",
       "      <td>11016329</td>\n",
       "    </tr>\n",
       "    <tr>\n",
       "      <th>2023-01-06</th>\n",
       "      <td>70.430000</td>\n",
       "      <td>72.900002</td>\n",
       "      <td>70.220001</td>\n",
       "      <td>72.449997</td>\n",
       "      <td>71.690773</td>\n",
       "      <td>5278309</td>\n",
       "    </tr>\n",
       "    <tr>\n",
       "      <th>...</th>\n",
       "      <td>...</td>\n",
       "      <td>...</td>\n",
       "      <td>...</td>\n",
       "      <td>...</td>\n",
       "      <td>...</td>\n",
       "      <td>...</td>\n",
       "    </tr>\n",
       "    <tr>\n",
       "      <th>2023-12-22</th>\n",
       "      <td>70.709999</td>\n",
       "      <td>71.529999</td>\n",
       "      <td>70.209999</td>\n",
       "      <td>70.699997</td>\n",
       "      <td>70.699997</td>\n",
       "      <td>6591886</td>\n",
       "    </tr>\n",
       "    <tr>\n",
       "      <th>2023-12-26</th>\n",
       "      <td>70.699997</td>\n",
       "      <td>71.500000</td>\n",
       "      <td>70.699997</td>\n",
       "      <td>71.099998</td>\n",
       "      <td>71.099998</td>\n",
       "      <td>1939249</td>\n",
       "    </tr>\n",
       "    <tr>\n",
       "      <th>2023-12-27</th>\n",
       "      <td>71.070000</td>\n",
       "      <td>72.129997</td>\n",
       "      <td>70.309998</td>\n",
       "      <td>72.089996</td>\n",
       "      <td>72.089996</td>\n",
       "      <td>6887436</td>\n",
       "    </tr>\n",
       "    <tr>\n",
       "      <th>2023-12-28</th>\n",
       "      <td>71.709999</td>\n",
       "      <td>72.389999</td>\n",
       "      <td>70.940002</td>\n",
       "      <td>71.489998</td>\n",
       "      <td>71.489998</td>\n",
       "      <td>7916668</td>\n",
       "    </tr>\n",
       "    <tr>\n",
       "      <th>2023-12-29</th>\n",
       "      <td>71.599998</td>\n",
       "      <td>71.889999</td>\n",
       "      <td>71.220001</td>\n",
       "      <td>71.389999</td>\n",
       "      <td>71.389999</td>\n",
       "      <td>2911562</td>\n",
       "    </tr>\n",
       "  </tbody>\n",
       "</table>\n",
       "<p>251 rows × 6 columns</p>\n",
       "</div>"
      ],
      "text/plain": [
       "                 Open       High        Low      Close  Adj Close    Volume\n",
       "Date                                                                       \n",
       "2023-01-02  68.589996  69.879997  68.410004  69.150002  68.425362   1134933\n",
       "2023-01-03  69.010002  70.029999  68.809998  69.250000  68.524307   4738324\n",
       "2023-01-04  69.150002  70.889999  68.730003  70.489998  69.751312   8848076\n",
       "2023-01-05  70.550003  71.089996  69.940002  70.410004  69.672157  11016329\n",
       "2023-01-06  70.430000  72.900002  70.220001  72.449997  71.690773   5278309\n",
       "...               ...        ...        ...        ...        ...       ...\n",
       "2023-12-22  70.709999  71.529999  70.209999  70.699997  70.699997   6591886\n",
       "2023-12-26  70.699997  71.500000  70.699997  71.099998  71.099998   1939249\n",
       "2023-12-27  71.070000  72.129997  70.309998  72.089996  72.089996   6887436\n",
       "2023-12-28  71.709999  72.389999  70.940002  71.489998  71.489998   7916668\n",
       "2023-12-29  71.599998  71.889999  71.220001  71.389999  71.389999   2911562\n",
       "\n",
       "[251 rows x 6 columns]"
      ]
     },
     "execution_count": 69,
     "metadata": {},
     "output_type": "execute_result"
    }
   ],
   "source": [
    "precios('walmex.mx', '2023-01-01', '2024-01-01')"
   ]
  },
  {
   "cell_type": "markdown",
   "id": "8a33656f-ab52-4374-a3ee-3e5431234a7e",
   "metadata": {},
   "source": [
    "## Guardar función en nuestra librería y recargarlas en automático:"
   ]
  },
  {
   "cell_type": "code",
   "execution_count": null,
   "id": "02cfe64c-e859-4586-9b4b-8c1f2323faa4",
   "metadata": {},
   "outputs": [],
   "source": []
  },
  {
   "cell_type": "markdown",
   "id": "fc92b2d3-133c-4e3c-b0a4-565109bfb1dd",
   "metadata": {
    "tags": []
   },
   "source": [
    "## <font color='#2B17B0'>Retornos logarítmicos</font>\n"
   ]
  },
  {
   "cell_type": "markdown",
   "id": "978d39da-9d9e-4459-90d1-fbc4756d8bf4",
   "metadata": {},
   "source": [
    "> _En el trading algorítmico, la precisión y consistencia determinan el éxito. Los retornos logarítmicos son preferidos porque brindan ventajas significativas al analizar rendimientos a través de diversos períodos_"
   ]
  },
  {
   "cell_type": "markdown",
   "id": "96924d2c-8f9c-443c-b270-74ac5efa0873",
   "metadata": {},
   "source": [
    "* __Aditividad Temporal__: Los retornos logarítmicos son aditivos en el tiempo. puedes sumarlos para obtener el retorno logarítmico total durante todo el período. Esto no es el caso con los retornos algebraicos.\n",
    "* __Menor Varianza__:tienden a tener una varianza menor que los retornos algebraicos, lo que los hace más estables para el análisis estadístico.\n",
    "* __Distribución Normal__: Para muchos modelos financieros, se supone que los retornos se distribuyen de manera normal. Los retornos logarítmicos tienen más probabilidades de exhibir este comportamiento en comparación con los retornos algebraicos, especialmente para activos con oscilaciones significativas de precios.\n",
    "* __Conveniencia Matemática__: Al trabajar con productos y proporciones (comunes en modelos financieros), los retornos logarítmicos simplifican los cálculos, especialmente al usar herramientas matemáticas como el movimiento browniano geométrico en el modelo Black-Scholes."
   ]
  },
  {
   "cell_type": "code",
   "execution_count": null,
   "id": "b5a2cc81-c18e-4a91-ade3-6aa04c57d714",
   "metadata": {},
   "outputs": [],
   "source": []
  },
  {
   "cell_type": "markdown",
   "id": "0edabe6f-5b16-4909-85d3-f95829bd1209",
   "metadata": {},
   "source": [
    "## Comparar 2 o más acciones"
   ]
  },
  {
   "cell_type": "markdown",
   "id": "9deccbad-16bb-4333-9d3b-456152b69306",
   "metadata": {
    "tags": []
   },
   "source": [
    "### Crear DataFrame con 2 o más precios de cierre de diferentes acciones"
   ]
  },
  {
   "cell_type": "code",
   "execution_count": null,
   "id": "5996a0d7-edb6-48d4-858c-8c5a305c671a",
   "metadata": {},
   "outputs": [],
   "source": []
  },
  {
   "cell_type": "markdown",
   "id": "0144df3e-4d44-4274-8d00-443814d1d698",
   "metadata": {},
   "source": [
    "### Normalizado de series de tiempo: Comparar 2 o más acciones"
   ]
  },
  {
   "cell_type": "code",
   "execution_count": null,
   "id": "cb31426b-c628-4942-9a39-a6e4bd95cefd",
   "metadata": {},
   "outputs": [],
   "source": []
  },
  {
   "cell_type": "markdown",
   "id": "2ba3438b-f280-4e78-ae1a-39956d0a2a75",
   "metadata": {
    "tags": []
   },
   "source": [
    "## Algoritmo Promedios Móviles"
   ]
  },
  {
   "cell_type": "markdown",
   "id": "cd1ed107-3f7a-4116-b4c5-4a4d635f815b",
   "metadata": {
    "tags": []
   },
   "source": [
    "Un promedio móvil es una técnica que calcula el promedio de un conjunto de datos a lo largo de un período específico, que se actualiza constantemente a medida que pasa el tiempo. Por ejemplo, en el caso de los precios de cierre de una acción, un promedio móvil de 20 días calcula el promedio de los precios de cierre de los últimos 20 días. Con cada día que pasa, se elimina el dato correspondiente al día más antiguo de los 20 y se incorpora el precio del día más reciente. De esta forma, el promedio móvil siempre refleja el precio promedio de las últimos 20 días.<br><br>"
   ]
  },
  {
   "cell_type": "code",
   "execution_count": null,
   "id": "e2650c3c-df38-4f22-b878-2e439401bc1e",
   "metadata": {},
   "outputs": [],
   "source": []
  },
  {
   "cell_type": "markdown",
   "id": "d2510f82-1ff7-4040-af08-a4d78f5ef6b2",
   "metadata": {},
   "source": [
    "### Cálculo de los promedios móviles"
   ]
  },
  {
   "cell_type": "markdown",
   "id": "d48d54c0-00dd-45f5-9b4b-99247551b3c7",
   "metadata": {},
   "source": [
    "Referencia sobre la función `rolling` de pandas:\n",
    "https://pandas.pydata.org/docs/reference/api/pandas.DataFrame.rolling.html"
   ]
  },
  {
   "cell_type": "code",
   "execution_count": null,
   "id": "872032b7-7a13-4d8e-abc2-32f330185d5c",
   "metadata": {},
   "outputs": [],
   "source": []
  },
  {
   "cell_type": "markdown",
   "id": "976af034-8884-418c-ab71-40477b66ab71",
   "metadata": {},
   "source": [
    "### Calcular posicion en el mercado"
   ]
  },
  {
   "cell_type": "markdown",
   "id": "4a5fa7e9-b65b-4ebd-b3ba-0fc053d9cc55",
   "metadata": {},
   "source": [
    "Ventas en corto permitidas:\n",
    "La estrategia consiste en tomar posiciones \"long\" o \"short\" al cruce de los PMs:\n",
    "* Long: PM1 > PM2 $\\longrightarrow$ __1__\n",
    "* Short: PM1 < PM2 $\\longrightarrow$ __-1__\n",
    "\n",
    "Ventas en corto no permitidas:\n",
    "* Long: PM1 > PM2 $\\longrightarrow$ __1__\n",
    "* Out:   PM1 < PM2 $\\longrightarrow$ **0**\n",
    "\n",
    "El utilizar números nos permite:\n",
    "* Visualizar posición en el mercado de acuerdo a los crueces de lospromedios móviles\n",
    "* Calcular los retornos de de la estrategia"
   ]
  },
  {
   "cell_type": "markdown",
   "id": "9d76e893-bb0d-41cd-90e2-87b172a3c1c0",
   "metadata": {
    "tags": []
   },
   "source": [
    "#### Cálculo de posición del mercado utilizando ventas en corto"
   ]
  },
  {
   "cell_type": "code",
   "execution_count": null,
   "id": "54dd5577-9b6a-4e92-8c34-983b4891e979",
   "metadata": {},
   "outputs": [],
   "source": []
  },
  {
   "cell_type": "markdown",
   "id": "43bdfc13-01e7-4c86-90fd-f252969885a7",
   "metadata": {},
   "source": [
    "Referencia sobre función `where` de numpy:\n",
    "https://numpy.org/doc/stable/reference/generated/numpy.where.html"
   ]
  },
  {
   "cell_type": "markdown",
   "id": "a7aa5a4e-b135-4628-886f-be672e3b490a",
   "metadata": {
    "tags": []
   },
   "source": [
    "#### <font color='navygray'>Visualizar posiciones en el mercado</font>"
   ]
  },
  {
   "cell_type": "code",
   "execution_count": null,
   "id": "65ded7a9-36ab-466d-a06b-25762eda5824",
   "metadata": {},
   "outputs": [],
   "source": []
  },
  {
   "cell_type": "markdown",
   "id": "ac8d3470-c588-4752-b0ad-daf55972dfa1",
   "metadata": {
    "tags": []
   },
   "source": [
    "### Retornos del mercado Vs Estrategia PMs"
   ]
  },
  {
   "cell_type": "code",
   "execution_count": null,
   "id": "789ff9e2-6b61-413d-b95e-e8308b1aaf78",
   "metadata": {},
   "outputs": [],
   "source": []
  },
  {
   "cell_type": "markdown",
   "id": "154799ac-db20-4836-b3f4-b6696815c098",
   "metadata": {},
   "source": [
    "### Visualizar desempeño"
   ]
  },
  {
   "cell_type": "code",
   "execution_count": null,
   "id": "fc3dfd62-83ef-453b-9536-bde0a7250205",
   "metadata": {},
   "outputs": [],
   "source": []
  },
  {
   "cell_type": "markdown",
   "id": "8ee00145-c519-4e53-a671-4ec4caad042c",
   "metadata": {},
   "source": [
    "### <font color='navygray'>Balance monetario</font>"
   ]
  },
  {
   "cell_type": "code",
   "execution_count": null,
   "id": "ba863e9b-95fb-4f25-ae66-40c65bd7208b",
   "metadata": {},
   "outputs": [],
   "source": []
  },
  {
   "cell_type": "markdown",
   "id": "4eb4440a-8ac0-4c8f-b8bd-628e227361c4",
   "metadata": {},
   "source": [
    "### Balance: Máximos"
   ]
  },
  {
   "cell_type": "code",
   "execution_count": null,
   "id": "987d3700-9645-4350-92c3-b12012ca1a13",
   "metadata": {},
   "outputs": [],
   "source": []
  },
  {
   "cell_type": "markdown",
   "id": "739b457a-144a-4760-85fc-99d374a33f9f",
   "metadata": {},
   "source": [
    "### Balance: Perdidas"
   ]
  },
  {
   "cell_type": "code",
   "execution_count": null,
   "id": "2a3c2b7c-ea2c-4924-a33a-39a415974fff",
   "metadata": {},
   "outputs": [],
   "source": []
  },
  {
   "cell_type": "markdown",
   "id": "af8d8489-47cc-4aa0-8775-d4aca3ded48e",
   "metadata": {},
   "source": [
    "### Encontrar pérdida máxima"
   ]
  },
  {
   "cell_type": "markdown",
   "id": "0c3e0e0e-9b11-4cb0-ab02-bfdcb67139bc",
   "metadata": {},
   "source": [
    "#### dentificar la mayor perdida"
   ]
  },
  {
   "cell_type": "code",
   "execution_count": null,
   "id": "eb7b6098-f86e-472c-8793-7f91ba179e7e",
   "metadata": {},
   "outputs": [],
   "source": []
  },
  {
   "cell_type": "markdown",
   "id": "f18a95fb-fb44-45c1-a88f-3d9a20427a04",
   "metadata": {},
   "source": [
    "#### Encontrar fecha"
   ]
  },
  {
   "cell_type": "code",
   "execution_count": null,
   "id": "4c0a8ded-9137-4f17-8204-43d7e269b0ce",
   "metadata": {},
   "outputs": [],
   "source": []
  },
  {
   "cell_type": "markdown",
   "id": "2eb4e073-ad97-4828-9f21-11d84b739839",
   "metadata": {},
   "source": [
    "#### Identificar valor del pico máximo en la fecha de la mayor perdida"
   ]
  },
  {
   "cell_type": "code",
   "execution_count": null,
   "id": "d5f8aa80-b948-4c88-9435-a6128f559213",
   "metadata": {},
   "outputs": [],
   "source": []
  },
  {
   "cell_type": "markdown",
   "id": "fb63fc1e-9fd4-47e0-9a7f-52959a17eac6",
   "metadata": {},
   "source": [
    "#### Identificar balance en la fecha de la mayor pérdida"
   ]
  },
  {
   "cell_type": "code",
   "execution_count": null,
   "id": "bf5a7637-a6e6-4ad9-94b0-106ddf0a5682",
   "metadata": {},
   "outputs": [],
   "source": []
  },
  {
   "cell_type": "markdown",
   "id": "00f60973-3346-4f98-8584-d9a696c2c524",
   "metadata": {
    "tags": []
   },
   "source": [
    "## <font color='navygray'>Cual es la mejor combinación para los promedios móviles?</font>"
   ]
  },
  {
   "cell_type": "code",
   "execution_count": null,
   "id": "bc96876b-4795-4164-834b-8e5c0a29356b",
   "metadata": {},
   "outputs": [],
   "source": []
  },
  {
   "cell_type": "markdown",
   "id": "a0e52b54-99b1-4e01-9ff7-7ba6e654bbec",
   "metadata": {
    "tags": []
   },
   "source": [
    "# <font color='navygray'>ALGORITMO BASADO EN BANDAS DE BOLLINGER</font>"
   ]
  },
  {
   "cell_type": "markdown",
   "id": "da0c51cc-26af-4965-9d93-f94af5054d35",
   "metadata": {},
   "source": [
    "La técnica fue desarrollada por John Bollinger.  Y consiste en colocar una banda superior y una ineferior alrededor de un promedio móvil.  Por lo general el promedio móvil de las Bandas de Bollinger, tiene una ventana de 20 días.  La distancia entre las bandas y el promedio móvil son dos desviaciones estándar o  $2\\sigma$.  Al utilizar $2\\sigma$ nos aseguramos que el $95%$ de los datos de los precios están entre las dos bandas.  Se concidera que el precio de la acción está sobrevaluado, cuando toca la banda superior y subvaluado cuando toca la banda inferior."
   ]
  },
  {
   "cell_type": "markdown",
   "id": "12cd4f15-f27e-4e1e-a1cd-444815504b08",
   "metadata": {},
   "source": [
    "## <font color='navygray'>Estrategia básica de las Bandas de Bollinger</font>"
   ]
  },
  {
   "cell_type": "markdown",
   "id": "54c8a0ee-fa1e-46a5-9b1f-4678ecbd7b21",
   "metadata": {},
   "source": [
    "La estrategia más básica es comprar cuando el mercado está subvaluado y vender cuando está sobrevaluado.  En otras palabras, comprar cuando el precio de cierre toca la banda inferior $-2\\sigma$ y vender cuando toca la banda superior $+2\\sigma$."
   ]
  },
  {
   "cell_type": "code",
   "execution_count": null,
   "id": "2ebac115-2757-450a-913a-6a67f9038c95",
   "metadata": {},
   "outputs": [],
   "source": []
  },
  {
   "cell_type": "markdown",
   "id": "d3358542-e762-4fd6-860c-edbe2d115fc1",
   "metadata": {},
   "source": [
    "## <font color='navygray'>Calcular el promedio móvil de 20 días y las líneas de $\\pm2\\sigma$</font>"
   ]
  },
  {
   "cell_type": "code",
   "execution_count": null,
   "id": "83e864c9-dab7-4e48-9920-809a4d1b9f17",
   "metadata": {},
   "outputs": [],
   "source": []
  },
  {
   "cell_type": "markdown",
   "id": "2d64b481-474c-4bc2-96af-7a0d9a4f5d4a",
   "metadata": {},
   "source": [
    "## <font color='navygray'>Visualizar el precio de cierre, el PM20 días y las líneas de $\\pm2\\sigma$</font>"
   ]
  },
  {
   "cell_type": "markdown",
   "id": "a665055a-3cfe-4152-adb1-549fc68b0ccf",
   "metadata": {},
   "source": [
    "La función \"*__fill_between__*\" de MatPlotLib, genera un sombreado entre dos valores.  Necesitamos especificar los argumentos \"*__color__*\" y \"*__alpha__*.  Este último acepta valores entre 0 y 1 que mide el nivel de opacidad del \"relleno\"."
   ]
  },
  {
   "cell_type": "markdown",
   "id": "f76d58f2-1d54-40a3-8514-3db9b9b89643",
   "metadata": {},
   "source": [
    "## <font color='navygray'>Calcular posición en el mercado</font>"
   ]
  },
  {
   "cell_type": "markdown",
   "id": "ea725969-ab80-4e42-8836-ae9fe0d0ee19",
   "metadata": {},
   "source": [
    "* Long si PC < $-2\\sigma$ del promedio móvil\n",
    "* Short si PC > $+2\\sigma$ del promedio móvil\n",
    "* Y las posiciones en el \"in between\"?"
   ]
  },
  {
   "cell_type": "markdown",
   "id": "194ff7de-dc3d-4ec6-a7c9-ff2d2f9b4e98",
   "metadata": {},
   "source": [
    "#### <font color='navygray'>1. Crear columna nueva</font>"
   ]
  },
  {
   "cell_type": "code",
   "execution_count": null,
   "id": "54ae55cc-645c-49b2-a4ed-fd04c45d5c2e",
   "metadata": {},
   "outputs": [],
   "source": []
  },
  {
   "cell_type": "markdown",
   "id": "ee9b79f1-4be7-4bb5-b27a-db0be2322ead",
   "metadata": {},
   "source": [
    "#### <font color='navygray'>2. Evaluar si el precio de cierre cruza $+2\\sigma$</font>"
   ]
  },
  {
   "cell_type": "code",
   "execution_count": null,
   "id": "eaec3a26-a08e-49d5-81b7-2c1bc8c335b5",
   "metadata": {},
   "outputs": [],
   "source": []
  },
  {
   "cell_type": "markdown",
   "id": "443f46ca-d12a-42c5-b59a-cf668dd02238",
   "metadata": {},
   "source": [
    "#### <font color='navygray'>3. Evaluar si el precio de cierre cruza $-2\\sigma$</font>"
   ]
  },
  {
   "cell_type": "code",
   "execution_count": null,
   "id": "7414aa97-92cf-427d-89e3-841a49012411",
   "metadata": {},
   "outputs": [],
   "source": []
  },
  {
   "cell_type": "markdown",
   "id": "364684c9-6391-44ef-9b83-f14770373231",
   "metadata": {},
   "source": [
    "#### <font color='navygray'>4. Cambiar todos los **NaN** a la señal inmediata anterior</font>"
   ]
  },
  {
   "cell_type": "code",
   "execution_count": null,
   "id": "e240276c-f5b3-4930-a9fa-1d67394e3d2e",
   "metadata": {},
   "outputs": [],
   "source": []
  },
  {
   "cell_type": "markdown",
   "id": "0045c914-8a30-4d1d-91a4-b59085e6be90",
   "metadata": {},
   "source": [
    "## <font color='navygray'>BackTesting</font>"
   ]
  },
  {
   "cell_type": "code",
   "execution_count": null,
   "id": "b00c73f6-2269-4527-bd28-f5d58890cb65",
   "metadata": {},
   "outputs": [],
   "source": []
  },
  {
   "cell_type": "markdown",
   "id": "bcb95c1d-4447-494c-b69b-eeb19673a793",
   "metadata": {},
   "source": [
    "### <font color='navygray'>Balance y caidas</font>"
   ]
  },
  {
   "cell_type": "code",
   "execution_count": null,
   "id": "7fb80718-10dd-4dfa-88fb-abc3e8b2cd68",
   "metadata": {},
   "outputs": [],
   "source": []
  },
  {
   "cell_type": "markdown",
   "id": "d80254ed-581a-4122-8b39-a1b0c5d2a317",
   "metadata": {},
   "source": [
    "### <font color='navygray'>Balance: Perdidas</font>"
   ]
  },
  {
   "cell_type": "markdown",
   "id": "ed6b5a35-3b0d-41d1-aed3-773ef4143013",
   "metadata": {},
   "source": [
    "### Encontrar pérdida máxima"
   ]
  },
  {
   "cell_type": "markdown",
   "id": "3c7ddade-0402-409c-b7d4-cf9448a68557",
   "metadata": {},
   "source": [
    "#### Identificar la mayor perdida"
   ]
  },
  {
   "cell_type": "code",
   "execution_count": null,
   "id": "571bfada-73c3-4e9e-ba5a-421588f49756",
   "metadata": {},
   "outputs": [],
   "source": []
  },
  {
   "cell_type": "markdown",
   "id": "15d2121b-b9e1-4db6-90bf-9375551a0d68",
   "metadata": {},
   "source": [
    "#### Encontrar fecha"
   ]
  },
  {
   "cell_type": "code",
   "execution_count": null,
   "id": "13a3b32a-489f-4c61-809a-0f78097b6b4d",
   "metadata": {},
   "outputs": [],
   "source": []
  },
  {
   "cell_type": "markdown",
   "id": "d4e38ae0-eaf0-4ce4-b39c-f3df761f9710",
   "metadata": {},
   "source": [
    "#### Identificar valor del pico máximo en la fecha de la mayor perdida"
   ]
  },
  {
   "cell_type": "code",
   "execution_count": null,
   "id": "0fccfb76-f2a1-4910-b70b-610ac7badda5",
   "metadata": {},
   "outputs": [],
   "source": []
  },
  {
   "cell_type": "markdown",
   "id": "a85fa74e-4d0c-4d26-85f2-9b4732908d17",
   "metadata": {},
   "source": [
    "#### Identificar balance en la fecha de la mayor pérdida"
   ]
  },
  {
   "cell_type": "code",
   "execution_count": null,
   "id": "2c00d01c-35da-433b-94d4-f1ab7edab0ca",
   "metadata": {},
   "outputs": [],
   "source": []
  }
 ],
 "metadata": {
  "kernelspec": {
   "display_name": "Python 3 (ipykernel)",
   "language": "python",
   "name": "python3"
  },
  "language_info": {
   "codemirror_mode": {
    "name": "ipython",
    "version": 3
   },
   "file_extension": ".py",
   "mimetype": "text/x-python",
   "name": "python",
   "nbconvert_exporter": "python",
   "pygments_lexer": "ipython3",
   "version": "3.12.3"
  }
 },
 "nbformat": 4,
 "nbformat_minor": 5
}
