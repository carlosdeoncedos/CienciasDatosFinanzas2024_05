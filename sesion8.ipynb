{
 "cells": [
  {
   "cell_type": "markdown",
   "id": "0d603778-6394-4389-905f-c47bfa4ecd3b",
   "metadata": {},
   "source": [
    "# <font color='#2B17B0'>CIENCIA DE DATOS APLICADA A FINANZAS</font>\n",
    "Sesión 8, 2024-06-03<br>\n",
    "Carlos Crespo Elizondo<br>\n",
    "EGADE BUSINESS SCHOOL"
   ]
  },
  {
   "cell_type": "markdown",
   "id": "fb7efc58-52e9-4287-a8b9-79618a289b20",
   "metadata": {},
   "source": [
    "# <font color='#2B17B0'>Binance:  API</font>"
   ]
  },
  {
   "cell_type": "markdown",
   "id": "ca806254-d38d-47cf-8c3c-3f8f1aad7fe0",
   "metadata": {},
   "source": [
    "El API facilita la interacción programática con Binance.  Permite automatizar órdenes de compra/venta, acceder a datos de mercado en tiempo real, gestionar cuentas, entre otras funcionalidades.\n",
    "\n",
    "Las APIs de Binance tiene los siguientes servicios:\n",
    "1. Trading (spot, derivados, margenes, cartera).\n",
    "2. Administración de cuenta(s)\n",
    "3. Inversiones y servicios\n",
    "4. Dev tools\n",
    "\n",
    "La documentación oficial del API de Binance lo encontramos en los siguientes links:<br>\n",
    "https://developers.binance.com/docs/binance-spot-api-docs<br>\n",
    "https://github.com/binance\n"
   ]
  },
  {
   "cell_type": "markdown",
   "id": "6ebabfb8-9f45-4707-bde6-8b64fe5bd671",
   "metadata": {},
   "source": [
    "## <font color='#2B17B0'>Rest API</font>"
   ]
  },
  {
   "cell_type": "markdown",
   "id": "07723a11-7127-4451-9a91-6eae8a21548f",
   "metadata": {},
   "source": [
    "### <font color='gray'>Endpoints</font>"
   ]
  },
  {
   "cell_type": "markdown",
   "id": "a11fdd52-cf4b-42c1-9ff7-211959268aae",
   "metadata": {},
   "source": [
    "https://api.binance.com<br>\n",
    "https://api-gcp.binance.com<br>\n",
    "https://api1.binance.com<br>\n",
    "https://api2.binance.com<br>\n",
    "https://api3.binance.com<br>\n",
    "https://api4.binance.com<br>"
   ]
  },
  {
   "cell_type": "markdown",
   "id": "464cdf91-fe43-42be-adf3-b6fe985c24a5",
   "metadata": {},
   "source": [
    "### <font color='gray'>Características</font>"
   ]
  },
  {
   "cell_type": "markdown",
   "id": "38151c05-b6d4-480e-8173-37aea53b6cdd",
   "metadata": {},
   "source": [
    "* Todos los endpoints regresan un objeto JSON.\n",
    "* Los datos son entregados en orden adendente (los datos más viejos primero).\n",
    "* Todos los timestamps están en milisegundos"
   ]
  },
  {
   "cell_type": "markdown",
   "id": "3b26d03b-da67-4b5c-89a5-73b855a9e947",
   "metadata": {},
   "source": [
    "### <font color='gray'>Código Retorno HTTP</font>"
   ]
  },
  {
   "cell_type": "markdown",
   "id": "e1b22b96-f4ae-4eeb-96f8-967124cff7c2",
   "metadata": {},
   "source": [
    "* `HTTP 4XX`:  Error del lado del cliente.  Request mal construido\n",
    "* `HTTP 5XX`:  Problema de Binance."
   ]
  },
  {
   "cell_type": "markdown",
   "id": "0a11df78-8612-48d2-8c92-798fc71483e5",
   "metadata": {},
   "source": [
    "### <font color='gray'>Endpoint generales</font>"
   ]
  },
  {
   "cell_type": "markdown",
   "id": "c0aa65b9-117e-41ff-9e42-f085d3286d00",
   "metadata": {},
   "source": [
    "* Probar conexión:  `GET /api/v3/ping`\n",
    "  * Respuesta: `{ }`\n",
    "* Hora del Servidor:  `GET /api/v3/time`\n",
    "  * Respuesta: `{\"serverTime\": 1499827319559}`\n",
    "* Información el Exchange:  `GET /api/v3/exchangeInfo`\n",
    "  * Ver documentación para más detalle"
   ]
  },
  {
   "cell_type": "markdown",
   "id": "0e232b2a-080e-41cf-b20c-d451bf3b31da",
   "metadata": {},
   "source": [
    "### <font color='gray'>Endpoint Datos del mercado</font>"
   ]
  },
  {
   "cell_type": "markdown",
   "id": "83b7482f-28ab-407d-aad8-d72814eca5fb",
   "metadata": {},
   "source": [
    "* Libro de órdenes:  `GET /api/v3/depth`.\n",
    "  * Parámetros:\n",
    "    * `symbol`: STRING, obligatorio.\n",
    "    * `limit`: INT.  Default = 100, Máximo = 5,000.\n",
    "* Mejor precio en libro de órdenes: `GET /api/v3/ticker/bookTicker`.\n",
    "  * Parámetros:\n",
    "    * symbol: STRING.\n",
    "    * symbols: STRING.\n",
    "* Lista de trades:  `GET /api/v3/trades`.\n",
    "  * Parámetros:\n",
    "    * `symbol`: STRING y es obligatorio.\n",
    "    * `limit`: INT.  Default = 100, Máximo = 1,000.\n",
    "*  KLine:  `GET /api/v3/klines`.\n",
    "  * Parámetros:\n",
    "    * `symbol`: STRING, obligatorio.\n",
    "    * `interval`: ENUM, obligatorio.\n",
    "    * `startTime`: LONG.\n",
    "    * `endTime`: LONG.\n",
    "    * `timeZone`: STRING.  Default = 0 (UTC)\n",
    "    * `limit`: INT.  Default = 100, Máximo = 1,000.\n"
   ]
  },
  {
   "cell_type": "markdown",
   "id": "e45a9741-a550-407c-ad38-76c8b4e44031",
   "metadata": {},
   "source": [
    "## <font color='#2B17B0'>Establecer cliente con Binance</font>"
   ]
  },
  {
   "cell_type": "code",
   "execution_count": null,
   "id": "65b357b6-1baf-4b52-a02a-1ced624ed45d",
   "metadata": {},
   "outputs": [],
   "source": []
  },
  {
   "cell_type": "markdown",
   "id": "22e58f26-3b42-44ec-9b4e-6be80e7eecc4",
   "metadata": {},
   "source": [
    "### <font color='#2B17B0'>Datos históricos O-H-L-C</font>"
   ]
  },
  {
   "cell_type": "code",
   "execution_count": null,
   "id": "1c37d875-718c-489e-bb4b-07a69494008c",
   "metadata": {},
   "outputs": [],
   "source": []
  },
  {
   "cell_type": "markdown",
   "id": "d6ecd4c9-bb12-4258-a28a-7917d14cf98d",
   "metadata": {
    "tags": []
   },
   "source": [
    "#### <font color='#2B17B0'>Crear gráfica de Velas Japonesas</font>"
   ]
  },
  {
   "cell_type": "code",
   "execution_count": null,
   "id": "5b3683ef-a6dd-4a15-9c4f-cc84bc1f57e9",
   "metadata": {},
   "outputs": [],
   "source": []
  },
  {
   "cell_type": "markdown",
   "id": "470bbc5a-2d8d-4b69-9bc6-bfaf5aa34975",
   "metadata": {},
   "source": [
    "### <font color='#2B17B0'>Leer libro de posturas</font>"
   ]
  },
  {
   "cell_type": "code",
   "execution_count": null,
   "id": "3cc6f8d2-4ccf-4cf9-a1e7-b25c9edb6983",
   "metadata": {},
   "outputs": [],
   "source": []
  },
  {
   "cell_type": "markdown",
   "id": "71a123f5-fba5-4708-a7f3-282c095848b8",
   "metadata": {},
   "source": [
    "### <font color='#2B17B0'>Leer mejor precio</font>"
   ]
  },
  {
   "cell_type": "code",
   "execution_count": null,
   "id": "9d2f71cc-cc67-4f5e-bf08-be5aa9b3908e",
   "metadata": {},
   "outputs": [],
   "source": []
  },
  {
   "cell_type": "markdown",
   "id": "c06a8ba1-577c-4f78-8894-ed41b3f488c9",
   "metadata": {},
   "source": [
    "## <font color='#2B17B0'>Establecer cliente con acceso a nuestra cuenta en Binance</font>"
   ]
  },
  {
   "cell_type": "code",
   "execution_count": null,
   "id": "f868c679-20f4-48e7-877b-0b89ccb751ae",
   "metadata": {},
   "outputs": [],
   "source": []
  },
  {
   "cell_type": "markdown",
   "id": "9964bc39-0f1b-4eaa-9644-50604308b361",
   "metadata": {},
   "source": [
    "### <font color='#2B17B0'>Leer balance cuenta</font>"
   ]
  },
  {
   "cell_type": "code",
   "execution_count": null,
   "id": "1d668095-8f79-4720-9401-c419a726e218",
   "metadata": {},
   "outputs": [],
   "source": []
  },
  {
   "cell_type": "markdown",
   "id": "2cd61a65-518b-411f-9d95-9f1b407abc3e",
   "metadata": {},
   "source": [
    "### <font color='#2B17B0'>Ejecutar orden de compra</font>"
   ]
  },
  {
   "cell_type": "code",
   "execution_count": null,
   "id": "0460c1de-34b1-4de3-8028-f52354556777",
   "metadata": {},
   "outputs": [],
   "source": []
  },
  {
   "cell_type": "markdown",
   "id": "2674dba9-cbf8-4e21-ad13-b8d19398ddc4",
   "metadata": {},
   "source": [
    "### <font color='#2B17B0'>Ejecutar orden de venta</font>"
   ]
  },
  {
   "cell_type": "code",
   "execution_count": null,
   "id": "e2f6c0f1-ace0-422f-a33a-238a666b01ed",
   "metadata": {},
   "outputs": [],
   "source": []
  },
  {
   "cell_type": "markdown",
   "id": "f279b51e-f370-4704-97fe-b6dd55233889",
   "metadata": {},
   "source": [
    "## <font color='#2B17B0'>WebSocket</font>"
   ]
  },
  {
   "cell_type": "markdown",
   "id": "1514c59a-af2b-4481-9b23-fc5ef855dc53",
   "metadata": {},
   "source": [
    "### <font color='gray'>Definición</font>"
   ]
  },
  {
   "cell_type": "markdown",
   "id": "94cb49fa-6fdf-4ad6-968c-a3c34085bef1",
   "metadata": {},
   "source": [
    "_Es un protocolo de comunicación a través de internet que a diferencia del protocolo HTTP, permite una comunicación bidereccional (ver punto 2 en características) y en tiempo real._"
   ]
  },
  {
   "cell_type": "markdown",
   "id": "9f8f8035-1ed4-44a5-ab7b-4d119d1517db",
   "metadata": {},
   "source": [
    "### <font color='gray'>Caracterísitcas</font>"
   ]
  },
  {
   "cell_type": "markdown",
   "id": "56b436ca-bf6d-4169-9aba-5877a7643716",
   "metadata": {},
   "source": [
    "1. En cada comunicación existe un cliente y un servidor.\n",
    "2. El cliente como el servidor pueden mandar y recibir datos al mismo tiempo (comunicación bidereccional).\n",
    "1. Reduce significativamente la latencia (tiempo que se tarda entre el envío y recepción de un dato en una red). \n",
    "1. Es utilizado por aplicaciones en tiempo real como juegos en línea, chats, plataformas de trading, etc."
   ]
  }
 ],
 "metadata": {
  "kernelspec": {
   "display_name": "Python 3 (ipykernel)",
   "language": "python",
   "name": "python3"
  },
  "language_info": {
   "codemirror_mode": {
    "name": "ipython",
    "version": 3
   },
   "file_extension": ".py",
   "mimetype": "text/x-python",
   "name": "python",
   "nbconvert_exporter": "python",
   "pygments_lexer": "ipython3",
   "version": "3.12.3"
  }
 },
 "nbformat": 4,
 "nbformat_minor": 5
}
