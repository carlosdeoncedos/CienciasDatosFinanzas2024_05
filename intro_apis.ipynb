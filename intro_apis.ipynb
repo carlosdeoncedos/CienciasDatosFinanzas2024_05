{
 "cells": [
  {
   "cell_type": "markdown",
   "id": "64563f84-86d3-491d-9c4d-2f00a2507894",
   "metadata": {},
   "source": [
    "# <font color='#2B17B0'>CIENCIA DE DATOS APLICADA A FINANZAS</font>\n",
    "Sesión 6.1 SOBRE LAS APIs, 2024-05-20<br>\n",
    "Carlos Crespo Elizondo<br>\n",
    "EGADE BUSINESS SCHOOL"
   ]
  },
  {
   "cell_type": "markdown",
   "id": "5bfc3d04-90b4-42b3-b6ce-79ae2f666140",
   "metadata": {},
   "source": [
    "# <font color='#2B17B0'>APIs</font>\n"
   ]
  },
  {
   "cell_type": "markdown",
   "id": "ef42d0c1-5394-4cec-8223-775273ae0cca",
   "metadata": {},
   "source": [
    "### <font color='#2B17B0'>Que es un API</font>\n"
   ]
  },
  {
   "cell_type": "markdown",
   "id": "47784a9d-1d90-404e-a894-a106529fefad",
   "metadata": {},
   "source": [
    "> _API: \"(Application Programming Interface) es un set de reglas y protocolos que permite que un software pueda interactuar con otro.  Define los métodos y la estructura de datos que las aplicaciones utilizan para comunicarse entre si\"_  <br>\n",
    "\n",
    "Chat GPT-4o"
   ]
  },
  {
   "cell_type": "markdown",
   "id": "752b9e21-17e4-4da0-ac56-e32724350f26",
   "metadata": {},
   "source": [
    "### <font color='#2B17B0'>Tipos de APIs</font>\n"
   ]
  },
  {
   "cell_type": "markdown",
   "id": "1b4d590f-353d-487d-aeff-6197c479212e",
   "metadata": {},
   "source": [
    "* _Web_:  Se usan para interactuar con servicios web (protocolos HTTP/HTTPS).\n",
    "* _Librerias_:  Publicadas por las librerías para permitir el uso de sus funciones.\n",
    "* _Sistema Operativo_:  Permite que una aplicación pueda interactuar con el OS.\n",
    "* _Base de Datos_:  Permite la comunicación entre una aplicación y el administrador de la BD."
   ]
  },
  {
   "cell_type": "markdown",
   "id": "2fcf2fb2-89a6-41d6-9fc9-7c787bb577a4",
   "metadata": {},
   "source": [
    "### <font color='#2B17B0'>Como funcionan las APIs</font>\n"
   ]
  },
  {
   "cell_type": "markdown",
   "id": "3e1b422d-b766-4b9d-bc74-d27b7ba7d068",
   "metadata": {},
   "source": [
    "#### <font color='#2B17B0'>Componentes</font>\n"
   ]
  },
  {
   "cell_type": "markdown",
   "id": "9ca4ca30-aae1-478b-9341-a90f92d1ee71",
   "metadata": {},
   "source": [
    "1. _Endpoint_:  Especificar URL para accesar al API.\n",
    "1. _Request_:  La llamada que el cliente hace al **endpoint**.  Por lo general incluye parámetros.\n",
    "1. _Response_:  Los datos que el API regresa al cliente.\n",
    "1. _Methods_:  Las acciones que puedes hacer através del API como:\n",
    "    * Get:  Obtener datos.\n",
    "    * Post:  Subir datos.\n",
    "    * Put:  Actualizar registros  o crearlo en caso de que no exista\n",
    "    * Delete:  Eliminar registros"
   ]
  },
  {
   "cell_type": "markdown",
   "id": "590b48cc-6c92-43db-b3ae-7461b0e6f04c",
   "metadata": {},
   "source": [
    "#### <font color='#2B17B0'>Web APIs</font>\n"
   ]
  },
  {
   "cell_type": "markdown",
   "id": "639cd942-215d-4d76-890b-9100924190cd",
   "metadata": {},
   "source": [
    "1. Por lo general utilizan los protocolos de comunicación HTTP / HTTPS\n",
    "2. Existen varias arquitecturas, las más usadas son:\n",
    "    1. REST (Representational State Transfer)\n",
    "    2. SOAP (Simple Object Access Protocol)"
   ]
  },
  {
   "cell_type": "markdown",
   "id": "ff3ca9fd-d9fa-45d3-afbe-f3941968a1b0",
   "metadata": {},
   "source": [
    "### <font color='#2B17B0'>Ejemplo:  Usar los APIs del Banco de México </font>\n",
    "OBJETIVO:  Cargar la serie histórica del tipo de cambio peso dólar en Jupyter.<br>\n",
    "MÉTODO:\n",
    "1. Manera manual\n",
    "1. Manera Automatizada"
   ]
  },
  {
   "cell_type": "markdown",
   "id": "9eee55b6-d128-4b31-8e5c-f79daa3c72e3",
   "metadata": {},
   "source": [
    "#### Buscar la información en la página de Banxico y cargarla en Jupyter"
   ]
  },
  {
   "cell_type": "markdown",
   "id": "5ed19888-8b14-4186-9f0f-ba7de346b9e5",
   "metadata": {},
   "source": [
    "https://www.banxico.org.mx <br>\n",
    "https://www.banxico.org.mx/SieAPIRest/service/v1/"
   ]
  },
  {
   "cell_type": "markdown",
   "id": "40870987-2104-484d-a1ea-7328b06c2ce4",
   "metadata": {},
   "source": [
    "#### Hacer pruebas de conexión al API utilizando Postman\n"
   ]
  },
  {
   "cell_type": "markdown",
   "id": "6f0a5256-415c-4832-82ac-7ad013a07930",
   "metadata": {},
   "source": [
    "* Postman es un programa en el que podemos desarrollar y/o probar APIs\n",
    "* Descargarlo en la siguiente dirección:<br>\n",
    "  https://web.postman.co\n"
   ]
  },
  {
   "cell_type": "markdown",
   "id": "4fa01bb1-f352-45ee-86a9-c9f7a6ca4036",
   "metadata": {},
   "source": [
    "#### <font color='#2B17B0'>Librería Request</font>\n"
   ]
  },
  {
   "cell_type": "markdown",
   "id": "94b11ea9-170e-472b-83dc-8ac7bc7e1046",
   "metadata": {},
   "source": [
    "> _Request es una librería de Python que se usa para hacer llamadas HTTP_"
   ]
  },
  {
   "cell_type": "markdown",
   "id": "863c667e-30ee-4c98-848c-3897c67c4db0",
   "metadata": {},
   "source": [
    "Pasos para usar hacer una llamda con la librería Request:\n",
    "1. Importar librería\n",
    "2. Definir la URL a donde se hará la llamada\n",
    "3. Realizar la llamada\n",
    "\n",
    "Adicionalmente podemos interpretar el tipo de respuesta de la llamada"
   ]
  },
  {
   "cell_type": "code",
   "execution_count": null,
   "id": "b7dd326f-55ab-4dec-a153-5ed68add2efd",
   "metadata": {},
   "outputs": [],
   "source": [
    "import pandas as pd\n",
    "import requests"
   ]
  },
  {
   "cell_type": "code",
   "execution_count": null,
   "id": "f2009b52-1f09-47c9-940b-db20f29a1e44",
   "metadata": {},
   "outputs": [],
   "source": [
    "url = 'https://www.banxico.org.mx/SieAPIRest/service/v1/series/SF63528/datos'"
   ]
  },
  {
   "cell_type": "code",
   "execution_count": null,
   "id": "5aa67978-7c87-44fd-ae04-a0db6ed0db08",
   "metadata": {},
   "outputs": [],
   "source": []
  },
  {
   "cell_type": "markdown",
   "id": "e9b467d4-c198-43b6-b8c4-9191ed23b5a1",
   "metadata": {},
   "source": [
    "A continuación haremos la llamada al API **CON UN ERROR** (falta el TOKEN)"
   ]
  },
  {
   "cell_type": "code",
   "execution_count": null,
   "id": "216afb05-7221-4f74-a38f-9836b0ca7d5a",
   "metadata": {},
   "outputs": [],
   "source": []
  }
 ],
 "metadata": {
  "kernelspec": {
   "display_name": "Python 3 (ipykernel)",
   "language": "python",
   "name": "python3"
  },
  "language_info": {
   "codemirror_mode": {
    "name": "ipython",
    "version": 3
   },
   "file_extension": ".py",
   "mimetype": "text/x-python",
   "name": "python",
   "nbconvert_exporter": "python",
   "pygments_lexer": "ipython3",
   "version": "3.12.3"
  }
 },
 "nbformat": 4,
 "nbformat_minor": 5
}
